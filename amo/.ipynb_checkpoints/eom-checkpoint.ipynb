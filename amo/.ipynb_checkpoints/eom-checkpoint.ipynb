{
 "cells": [
  {
   "cell_type": "code",
   "execution_count": 1,
   "id": "b23581da-e11a-4df3-95a2-a4530633c54c",
   "metadata": {},
   "outputs": [],
   "source": [
    "import numpy as np\n",
    "import matplotlib.pyplot as plt\n",
    "from scipy.optimize import curve_fit"
   ]
  },
  {
   "cell_type": "code",
   "execution_count": 33,
   "id": "266d68b4-8cc9-4da8-aed1-514d8288af53",
   "metadata": {},
   "outputs": [
    {
     "name": "stderr",
     "output_type": "stream",
     "text": [
      "/home/santiagoginer/miniconda3/envs/amo/lib/python3.9/site-packages/scipy/optimize/minpack.py:833: OptimizeWarning: Covariance of the parameters could not be estimated\n",
      "  warnings.warn('Covariance of the parameters could not be estimated',\n"
     ]
    },
    {
     "data": {
      "image/png": "[encoded data removed]",
      "text/plain": [
       "<Figure size 432x288 with 1 Axes>"
      ]
     },
     "metadata": {
      "needs_background": "light"
     },
     "output_type": "display_data"
    }
   ],
   "source": [
    "freqq = np.linspace(2.8, 3.0, 11)\n",
    "powerr = - np.array([10.65, 10.76, 10.84, 11.03, 12.20, 23.73, 12.50, 11.12, 10.80, 10.71, 10.70])\n",
    "\n",
    "# Function to fit for → Gaussian\n",
    "def func(x, g, x0, c):\n",
    "    return g / (2 * np.pi) / ((x - x0)**2 + (g / 2)**2)\n",
    "\n",
    "# Fit the data points\n",
    "popt, pcov = curve_fit(func, freqq, powerr)\n",
    "\n",
    "plt.plot(freqq, powerr, 'o')\n",
    "plt.plot(freqq, func(freqq, *popt))\n",
    "plt.show()"
   ]
  },
  {
   "cell_type": "code",
   "execution_count": null,
   "id": "3cae6052-90cf-428e-a8bc-1656b18771a4",
   "metadata": {},
   "outputs": [],
   "source": []
  }
 ],
 "metadata": {
  "kernelspec": {
   "display_name": "Python 3 (ipykernel)",
   "language": "python",
   "name": "python3"
  },
  "language_info": {
   "codemirror_mode": {
    "name": "ipython",
    "version": 3
   },
   "file_extension": ".py",
   "mimetype": "text/x-python",
   "name": "python",
   "nbconvert_exporter": "python",
   "pygments_lexer": "ipython3",
   "version": "3.9.12"
  }
 },
 "nbformat": 4,
 "nbformat_minor": 5
}
